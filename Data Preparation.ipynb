{
 "cells": [
  {
   "cell_type": "code",
   "execution_count": null,
   "metadata": {},
   "outputs": [],
   "source": [
    "import pandas as pd\n",
    "import os\n",
    "import shutil\n",
    "import random"
   ]
  },
  {
   "cell_type": "code",
   "execution_count": null,
   "metadata": {},
   "outputs": [],
   "source": [
    "pwd"
   ]
  },
  {
   "cell_type": "code",
   "execution_count": null,
   "metadata": {},
   "outputs": [],
   "source": [
    "# Source Directory\n",
    "BASE_NORMAL_DIR = \"Data_3/Meta Data/NORMAL\"\n",
    "BASE_COVID_DIR = \"Data_3/Meta Data/COVID/\"\n",
    "BASE_PNEUMN_DIR = \"Data_3/Meta Data/PNEUMONIA/\"\n",
    "\n",
    "# Training Data\n",
    "TRAIN_NORMAL_DIR = \"Data_3/Train/Normal/\"\n",
    "TRAIN_COVID_DIR = \"Data_3/Train/Covid-19/\"\n",
    "TRAIN_PNEUMN_DIR = \"Data_3/Train/Pneumonia/\"\n",
    "\n",
    "# Test Data\n",
    "TEST_NORMAL_DIR = \"Data_3/Test/Normal/\"\n",
    "TEST_COVID_DIR = \"Data_3/Test/Covid-19/\"\n",
    "TEST_PNEUMN_DIR = \"Data_3/Test/Pneumonia/\"\n",
    "\n",
    "# Validation Data\n",
    "VALID_NORMAL_DIR = \"Data_3/Validation/Normal/\"\n",
    "VALID_COVID_DIR = \"Data_3/Validation/Covid-19/\"\n",
    "VALID_PNEUMN_DIR = \"Data_3/Validation/Pneumonia/\""
   ]
  },
  {
   "cell_type": "code",
   "execution_count": null,
   "metadata": {},
   "outputs": [],
   "source": [
    "# Creating Training Data\n",
    "count = 0\n",
    "normal_imgs = os.listdir(BASE_NORMAL_DIR)\n",
    "covid_imgs = os.listdir(BASE_COVID_DIR)\n",
    "pneumon_imgs = os.listdir(BASE_PNEUMN_DIR)\n",
    "\n",
    "print(\"Normal Images: \",len(normal_imgs))\n",
    "print(\"Covid Images: \",len(covid_imgs))\n",
    "print(\"Pneumonia Images: \",len(pneumon_imgs))"
   ]
  },
  {
   "cell_type": "code",
   "execution_count": null,
   "metadata": {},
   "outputs": [],
   "source": [
    "print(\"Before Shuffle:\\n\")\n",
    "print(normal_imgs[0])\n",
    "print(covid_imgs[0])\n",
    "print(pneumon_imgs[0])"
   ]
  },
  {
   "cell_type": "code",
   "execution_count": null,
   "metadata": {},
   "outputs": [],
   "source": [
    "random.shuffle(normal_imgs)\n",
    "random.shuffle(covid_imgs)\n",
    "random.shuffle(pneumon_imgs)"
   ]
  },
  {
   "cell_type": "code",
   "execution_count": null,
   "metadata": {},
   "outputs": [],
   "source": [
    "print(\"After Shuffle:\\n\")\n",
    "print(normal_imgs[0])\n",
    "print(covid_imgs[0])\n",
    "print(pneumon_imgs[0])"
   ]
  },
  {
   "cell_type": "code",
   "execution_count": null,
   "metadata": {},
   "outputs": [],
   "source": [
    "# Training Data\n",
    "\n",
    "count = 0\n",
    "for i in range(171):\n",
    "    nrml_img = normal_imgs[i]\n",
    "    cvd_img = covid_imgs[i]\n",
    "    pneum_img = pneumon_imgs[i]\n",
    "    src_normal = os.path.join(BASE_NORMAL_DIR,nrml_img)\n",
    "    src_cvd = os.path.join(BASE_COVID_DIR,cvd_img)\n",
    "    src_pneum = os.path.join(BASE_PNEUMN_DIR,pneum_img)\n",
    "    targ_normal = os.path.join(TRAIN_NORMAL_DIR,nrml_img)\n",
    "    targ_cvd = os.path.join(TRAIN_COVID_DIR,cvd_img)\n",
    "    targ_pneum = os.path.join(TRAIN_PNEUMN_DIR,pneum_img)\n",
    "    shutil.copy2(src_normal,targ_normal)\n",
    "    shutil.copy2(src_cvd,targ_cvd)\n",
    "    shutil.copy2(src_pneum,targ_pneum)\n",
    "    count+=1\n",
    "    print(\"Copying Images \",count)"
   ]
  },
  {
   "cell_type": "code",
   "execution_count": null,
   "metadata": {},
   "outputs": [],
   "source": [
    "print(\"Train Normal Images: \",len(os.listdir(TRAIN_NORMAL_DIR)))\n",
    "print(\"TrainCovid Images: \",len(os.listdir(TRAIN_COVID_DIR)))\n",
    "print(\"Pneumonia Images: \",len(os.listdir(TRAIN_PNEUMN_DIR)))"
   ]
  },
  {
   "cell_type": "code",
   "execution_count": null,
   "metadata": {},
   "outputs": [],
   "source": [
    "# Tesst Data\n",
    "\n",
    "count = 0\n",
    "for i in range(172,189):\n",
    "    nrml_img = normal_imgs[i]\n",
    "    cvd_img = covid_imgs[i]\n",
    "    pneum_img = pneumon_imgs[i]\n",
    "    src_normal = os.path.join(BASE_NORMAL_DIR,nrml_img)\n",
    "    src_cvd = os.path.join(BASE_COVID_DIR,cvd_img)\n",
    "    src_pneum = os.path.join(BASE_PNEUMN_DIR,pneum_img)\n",
    "    targ_normal = os.path.join(TEST_NORMAL_DIR,nrml_img)\n",
    "    targ_cvd = os.path.join(TEST_COVID_DIR,cvd_img)\n",
    "    targ_pneum = os.path.join(TEST_PNEUMN_DIR,pneum_img)\n",
    "    shutil.copy2(src_normal,targ_normal)\n",
    "    shutil.copy2(src_cvd,targ_cvd)\n",
    "    shutil.copy2(src_pneum,targ_pneum)\n",
    "    count+=1\n",
    "    print(\"Copying Images \",count)"
   ]
  },
  {
   "cell_type": "code",
   "execution_count": null,
   "metadata": {},
   "outputs": [],
   "source": [
    "print(\"Test Normal Images: \",len(os.listdir(TEST_NORMAL_DIR)))\n",
    "print(\"Test Covid Images: \",len(os.listdir(TEST_COVID_DIR)))\n",
    "print(\"Test Pneumonia Images: \",len(os.listdir(TEST_PNEUMN_DIR)))"
   ]
  },
  {
   "cell_type": "code",
   "execution_count": null,
   "metadata": {},
   "outputs": [],
   "source": [
    "# Validation Data\n",
    "\n",
    "count = 0\n",
    "for i in range(189,196):\n",
    "    nrml_img = normal_imgs[i]\n",
    "    cvd_img = covid_imgs[i]\n",
    "    pneum_img = pneumon_imgs[i]\n",
    "    src_normal = os.path.join(BASE_NORMAL_DIR,nrml_img)\n",
    "    src_cvd = os.path.join(BASE_COVID_DIR,cvd_img)\n",
    "    src_pneum = os.path.join(BASE_PNEUMN_DIR,pneum_img)\n",
    "    targ_normal = os.path.join(VALID_NORMAL_DIR,nrml_img)\n",
    "    targ_cvd = os.path.join(VALID_COVID_DIR,cvd_img)\n",
    "    targ_pneum = os.path.join(VALID_PNEUMN_DIR,pneum_img)\n",
    "    shutil.copy2(src_normal,targ_normal)\n",
    "    shutil.copy2(src_cvd,targ_cvd)\n",
    "    shutil.copy2(src_pneum,targ_pneum)\n",
    "    count+=1\n",
    "    print(\"Copying Images \",count)"
   ]
  },
  {
   "cell_type": "code",
   "execution_count": null,
   "metadata": {},
   "outputs": [],
   "source": [
    "print(\"Validation Normal Images: \",len(os.listdir(VALID_NORMAL_DIR)))\n",
    "print(\"Validation Covid Images: \",len(os.listdir(VALID_COVID_DIR)))\n",
    "print(\"Validation Pneumonia Images: \",len(os.listdir(VALID_PNEUMN_DIR)))"
   ]
  },
  {
   "cell_type": "code",
   "execution_count": null,
   "metadata": {},
   "outputs": [],
   "source": []
  }
 ],
 "metadata": {
  "kernelspec": {
   "display_name": "Python 3",
   "language": "python",
   "name": "python3"
  },
  "language_info": {
   "codemirror_mode": {
    "name": "ipython",
    "version": 3
   },
   "file_extension": ".py",
   "mimetype": "text/x-python",
   "name": "python",
   "nbconvert_exporter": "python",
   "pygments_lexer": "ipython3",
   "version": "3.7.6"
  }
 },
 "nbformat": 4,
 "nbformat_minor": 4
}
